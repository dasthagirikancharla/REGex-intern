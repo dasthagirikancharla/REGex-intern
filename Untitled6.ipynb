{
  "nbformat": 4,
  "nbformat_minor": 0,
  "metadata": {
    "colab": {
      "name": "Untitled6.ipynb",
      "provenance": [],
      "collapsed_sections": []
    },
    "kernelspec": {
      "name": "python3",
      "display_name": "Python 3"
    },
    "language_info": {
      "name": "python"
    }
  },
  "cells": [
    {
      "cell_type": "code",
      "execution_count": 1,
      "metadata": {
        "id": "nH2U65sQzedO"
      },
      "outputs": [],
      "source": [
        "\n",
        "# Q1.Create a method overloading program in case if the both the values are equal then print False inside a formatted string\n",
        "#  otherwise print True __eq__\n",
        "\n",
        "class unequal:\n",
        "    def __init__(self,x,y):\n",
        "        self.x= x\n",
        "        self.y= y\n",
        "    \n",
        "    def __str__(self):\n",
        "        return \"The equal comparison is:  \"+str(self.x!=self.y)\n",
        "    \n",
        "    def __eq__(self,temp):\n",
        "        return \"The comparison of first numbers:  \" + str(self.x!=temp.x)+\"\\nThe comparison of last numbers:  \" +str((self.y!=temp.y))\n",
        " "
      ]
    },
    {
      "cell_type": "code",
      "source": [
        "\n",
        "o=unequal(int(input(\"first number:\")),int(input(\"second number:\")))\n",
        "print(o)"
      ],
      "metadata": {
        "colab": {
          "base_uri": "https://localhost:8080/"
        },
        "id": "SoL7aElS0DQi",
        "outputId": "21eb03a5-f499-458b-eec9-3e2265a6ab42"
      },
      "execution_count": 2,
      "outputs": [
        {
          "output_type": "stream",
          "name": "stdout",
          "text": [
            "first number:4\n",
            "second number:3\n",
            "The equal comparison is:  True\n"
          ]
        }
      ]
    },
    {
      "cell_type": "code",
      "source": [
        "p=unequal(int(input(\"first number:\")),int(input(\"second number:\")))\n",
        "print(p)"
      ],
      "metadata": {
        "colab": {
          "base_uri": "https://localhost:8080/"
        },
        "id": "R8MbYdWnRWtg",
        "outputId": "48837217-34f1-44a2-b657-4820b2d78591"
      },
      "execution_count": 3,
      "outputs": [
        {
          "output_type": "stream",
          "name": "stdout",
          "text": [
            "first number:3\n",
            "second number:4\n",
            "The equal comparison is:  True\n"
          ]
        }
      ]
    },
    {
      "cell_type": "code",
      "source": [
        "print(p==o)"
      ],
      "metadata": {
        "colab": {
          "base_uri": "https://localhost:8080/"
        },
        "id": "_SXkhcE3RbRn",
        "outputId": "2af9e27e-5aba-475f-8b68-0bf68c890c58"
      },
      "execution_count": 4,
      "outputs": [
        {
          "output_type": "stream",
          "name": "stdout",
          "text": [
            "The comparison of first numbers:  True\n",
            "The comparison of last numbers:  True\n"
          ]
        }
      ]
    },
    {
      "cell_type": "markdown",
      "source": [
        "## TASK2"
      ],
      "metadata": {
        "id": "TSmrsWmGRo7x"
      }
    },
    {
      "cell_type": "markdown",
      "source": [
        "## Program for various operations based on input"
      ],
      "metadata": {
        "id": "4oKTHQmHSF0R"
      }
    },
    {
      "cell_type": "code",
      "source": [
        "import os\n",
        "import socket \n",
        "\n",
        "\n",
        "counter = 0\n",
        "num=input(\"Enter a digit in between 1-9 :  \")\n",
        "\n",
        "\n",
        "while (num.isdigit() is False) and counter <= 1:\n",
        "    print('You cannot enter a string!')\n",
        "    num=input(\"Enter a digit in between 1-9 :  \")\n",
        "    counter = counter + 1\n",
        "    \n",
        "\n",
        "if counter <= 1:\n",
        "    nums = int(num)\n",
        "    \n",
        "    if nums == 0:\n",
        "        raise ValueError('Enter other than ZERO')\n",
        "    \n",
        "    if nums ==1:\n",
        "        directory=input(\"Enter your new directory name:   \")\n",
        "        parent_dir=\"C:/\"+input(\"\\nEnter Location for your directory: \")\n",
        "        path = os.path.join(parent_dir, directory)\n",
        "        \n",
        "        try:\n",
        "            os.makedirs(path, exist_ok = True)\n",
        "            print(\"\\nDirectory '%s' created successfully\" % directory)\n",
        "        \n",
        "        except OSError as error:\n",
        "            print(error)\n",
        "    \n",
        "    if nums==2:\n",
        "        hostname = socket.gethostname()   \n",
        "        IPAddr = socket.gethostbyname(hostname)    \n",
        "        print(\"Your Computer Name is:\" + hostname)   \n",
        "        print(\"Your Computer IP Address is:\" + IPAddr)  \n",
        "    \n",
        "    if nums==3:\n",
        "        shutdown = input(\"Do you wish to shutdown your computer ? (yes / no): \")\n",
        "        if shutdown == 'no':\n",
        "            exit()\n",
        "        else:\n",
        "            os.system(\"shutdown /s /t 1\")\n",
        "    \n",
        "    if nums==4:\n",
        "        os.system(\"start \\\"\\\" https://mrdoob.com/projects/chromeexperiments/google-gravity/\")\n",
        "    \n",
        "    if nums in range(5,10):\n",
        "        class fiv:\n",
        "            def __init__(self,a,b):\n",
        "                self.a=a\n",
        "                self.b=b\n",
        "            def opn(self):\n",
        "                ope=open(\"data.txt\",\"w\")\n",
        "                a=self.a+self.b\n",
        "                solve=[f\"The solution of {self.a} and {self.b} is \"+ str(a)]  \n",
        "                ope.writelines(solve)\n",
        "                ope.close()\n",
        "                ope=open(\"data.txt\",\"r\")\n",
        "                print(\"The addition is: \")\n",
        "                print(ope.readline())\n",
        "                print()\n",
        "                ope.close()\n",
        "        ans= fiv(int(input(\"first:\")),int(input(\"second:\")))\n",
        "        ans.opn()\n",
        "    \n",
        "    if nums>=10:\n",
        "        print(\"Only digits\\nNot numbers \\nBetterluck nexttime\")\n",
        "            \n",
        "        \n",
        "        \n",
        "\n",
        "else:\n",
        "    print('Error: cannot exceed three attempts')\n",
        "    exit()"
      ],
      "metadata": {
        "colab": {
          "base_uri": "https://localhost:8080/"
        },
        "id": "Rw_AVsZbSMpv",
        "outputId": "f23a4e78-93ad-4421-b92f-acb6a3ea4f61"
      },
      "execution_count": 5,
      "outputs": [
        {
          "output_type": "stream",
          "name": "stdout",
          "text": [
            "Enter a digit in between 1-9 :  2\n",
            "Your Computer Name is:3f1bab4496f9\n",
            "Your Computer IP Address is:172.28.0.2\n"
          ]
        }
      ]
    },
    {
      "cell_type": "code",
      "source": [
        ""
      ],
      "metadata": {
        "id": "E6PWGdPbTwHQ"
      },
      "execution_count": 5,
      "outputs": []
    }
  ]
}